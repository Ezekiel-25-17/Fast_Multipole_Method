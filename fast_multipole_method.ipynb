{
 "cells": [
  {
   "cell_type": "code",
   "execution_count": 4,
   "metadata": {},
   "outputs": [],
   "source": [
    "import numpy as np\n",
    "from copy import deepcopy\n",
    "import matplotlib.pyplot as plt\n",
    "from matplotlib.patches import Rectangle\n",
    "from matplotlib.collections import PatchCollection\n",
    "import fmm_functions as fmm\n",
    "from quadtree import QuadTree, Particle\n",
    "\n",
    "%matplotlib inline\n",
    "default_dpi = plt.rcParamsDefault['figure.dpi']\n",
    "params = {\"ytick.color\" : \"w\",\n",
    "          \"xtick.color\" : \"w\",\n",
    "          \"axes.labelcolor\" : \"w\",\n",
    "          \"axes.edgecolor\" : \"w\",\n",
    "          \"figure.dpi\" : 2*default_dpi}\n",
    "plt.rcParams.update(params)"
   ]
  },
  {
   "cell_type": "code",
   "execution_count": 5,
   "metadata": {},
   "outputs": [],
   "source": [
    "particles = [Particle(*p, 1) for p in np.random.rand(100,2)]\n",
    "particlesDS = deepcopy(particles)\n",
    "\n",
    "def reset_particles(particles):\n",
    "    for p in particles:\n",
    "        p.phi = 0"
   ]
  },
  {
   "cell_type": "code",
   "execution_count": 7,
   "metadata": {},
   "outputs": [
    {
     "ename": "TypeError",
     "evalue": "'NoneType' object is not iterable",
     "output_type": "error",
     "traceback": [
      "\u001b[1;31m---------------------------------------------------------------------------\u001b[0m",
      "\u001b[1;31mTypeError\u001b[0m                                 Traceback (most recent call last)",
      "\u001b[1;32mc:\\Data\\Bocconi\\2 - DSBA\\2nd Year\\2nd Semester\\Computer Science (Algorithms)\\Final Project\\Fast_Multipole_Method\\fast_multipole_method.ipynb Cell 3'\u001b[0m in \u001b[0;36m<cell line: 1>\u001b[1;34m()\u001b[0m\n\u001b[1;32m----> <a href='vscode-notebook-cell:/c%3A/Data/Bocconi/2%20-%20DSBA/2nd%20Year/2nd%20Semester/Computer%20Science%20%28Algorithms%29/Final%20Project/Fast_Multipole_Method/fast_multipole_method.ipynb#ch0000002?line=0'>1</a>\u001b[0m tree \u001b[39m=\u001b[39m fmm\u001b[39m.\u001b[39;49mbuild_tree(particles, tree_threshold\u001b[39m=\u001b[39;49m\u001b[39m10\u001b[39;49m)\n\u001b[0;32m      <a href='vscode-notebook-cell:/c%3A/Data/Bocconi/2%20-%20DSBA/2nd%20Year/2nd%20Semester/Computer%20Science%20%28Algorithms%29/Final%20Project/Fast_Multipole_Method/fast_multipole_method.ipynb#ch0000002?line=1'>2</a>\u001b[0m fig, ax \u001b[39m=\u001b[39m plt\u001b[39m.\u001b[39msubplots(\u001b[39m1\u001b[39m)\n\u001b[0;32m      <a href='vscode-notebook-cell:/c%3A/Data/Bocconi/2%20-%20DSBA/2nd%20Year/2nd%20Semester/Computer%20Science%20%28Algorithms%29/Final%20Project/Fast_Multipole_Method/fast_multipole_method.ipynb#ch0000002?line=2'>3</a>\u001b[0m pos \u001b[39m=\u001b[39m np\u001b[39m.\u001b[39marray([p\u001b[39m.\u001b[39mpos \u001b[39mfor\u001b[39;00m p \u001b[39min\u001b[39;00m particles])\n",
      "File \u001b[1;32mc:\\Data\\Bocconi\\2 - DSBA\\2nd Year\\2nd Semester\\Computer Science (Algorithms)\\Final Project\\Fast_Multipole_Method\\fmm_functions.py:56\u001b[0m, in \u001b[0;36mbuild_tree\u001b[1;34m(points, tree_threshold, eps, bbox, boundary)\u001b[0m\n\u001b[0;32m     <a href='file:///c%3A/Data/Bocconi/2%20-%20DSBA/2nd%20Year/2nd%20Semester/Computer%20Science%20%28Algorithms%29/Final%20Project/Fast_Multipole_Method/fmm_functions.py?line=52'>53</a>\u001b[0m \u001b[39mif\u001b[39;00m tree_threshold \u001b[39mis\u001b[39;00m \u001b[39mNone\u001b[39;00m:\n\u001b[0;32m     <a href='file:///c%3A/Data/Bocconi/2%20-%20DSBA/2nd%20Year/2nd%20Semester/Computer%20Science%20%28Algorithms%29/Final%20Project/Fast_Multipole_Method/fmm_functions.py?line=53'>54</a>\u001b[0m     tree_threshold \u001b[39m=\u001b[39m \u001b[39m5\u001b[39m\n\u001b[1;32m---> <a href='file:///c%3A/Data/Bocconi/2%20-%20DSBA/2nd%20Year/2nd%20Semester/Computer%20Science%20%28Algorithms%29/Final%20Project/Fast_Multipole_Method/fmm_functions.py?line=55'>56</a>\u001b[0m \u001b[39mreturn\u001b[39;00m QuadTree(points, tree_threshold, bbox\u001b[39m=\u001b[39;49mbbox, boundary\u001b[39m=\u001b[39;49mboundary)\n",
      "File \u001b[1;32mc:\\Data\\Bocconi\\2 - DSBA\\2nd Year\\2nd Semester\\Computer Science (Algorithms)\\Final Project\\Fast_Multipole_Method\\quadtree.py:15\u001b[0m, in \u001b[0;36mQuadTree.__init__\u001b[1;34m(self, points, threshold, bbox, boundary)\u001b[0m\n\u001b[0;32m     <a href='file:///c%3A/Data/Bocconi/2%20-%20DSBA/2nd%20Year/2nd%20Semester/Computer%20Science%20%28Algorithms%29/Final%20Project/Fast_Multipole_Method/quadtree.py?line=12'>13</a>\u001b[0m \u001b[39melse\u001b[39;00m:\n\u001b[0;32m     <a href='file:///c%3A/Data/Bocconi/2%20-%20DSBA/2nd%20Year/2nd%20Semester/Computer%20Science%20%28Algorithms%29/Final%20Project/Fast_Multipole_Method/quadtree.py?line=13'>14</a>\u001b[0m     \u001b[39mraise\u001b[39;00m \u001b[39mAttributeError\u001b[39;00m(\u001b[39mf\u001b[39m\u001b[39m'\u001b[39m\u001b[39mBoundary of type \u001b[39m\u001b[39m{\u001b[39;00mboundary\u001b[39m}\u001b[39;00m\u001b[39m not recognized\u001b[39m\u001b[39m'\u001b[39m)\n\u001b[1;32m---> <a href='file:///c%3A/Data/Bocconi/2%20-%20DSBA/2nd%20Year/2nd%20Semester/Computer%20Science%20%28Algorithms%29/Final%20Project/Fast_Multipole_Method/quadtree.py?line=14'>15</a>\u001b[0m \u001b[39mself\u001b[39;49m\u001b[39m.\u001b[39;49mbuild_tree(points)\n\u001b[0;32m     <a href='file:///c%3A/Data/Bocconi/2%20-%20DSBA/2nd%20Year/2nd%20Semester/Computer%20Science%20%28Algorithms%29/Final%20Project/Fast_Multipole_Method/quadtree.py?line=15'>16</a>\u001b[0m \u001b[39mself\u001b[39m\u001b[39m.\u001b[39mdepth \u001b[39m=\u001b[39m \u001b[39mNone\u001b[39;00m\n",
      "File \u001b[1;32mc:\\Data\\Bocconi\\2 - DSBA\\2nd Year\\2nd Semester\\Computer Science (Algorithms)\\Final Project\\Fast_Multipole_Method\\quadtree.py:31\u001b[0m, in \u001b[0;36mQuadTree.build_tree\u001b[1;34m(self, points)\u001b[0m\n\u001b[0;32m     <a href='file:///c%3A/Data/Bocconi/2%20-%20DSBA/2nd%20Year/2nd%20Semester/Computer%20Science%20%28Algorithms%29/Final%20Project/Fast_Multipole_Method/quadtree.py?line=28'>29</a>\u001b[0m \u001b[39mself\u001b[39m\u001b[39m.\u001b[39mroot\u001b[39m.\u001b[39madd_points(points)\n\u001b[0;32m     <a href='file:///c%3A/Data/Bocconi/2%20-%20DSBA/2nd%20Year/2nd%20Semester/Computer%20Science%20%28Algorithms%29/Final%20Project/Fast_Multipole_Method/quadtree.py?line=29'>30</a>\u001b[0m \u001b[39mself\u001b[39m\u001b[39m.\u001b[39mroot\u001b[39m.\u001b[39mthreshold_split(\u001b[39mself\u001b[39m\u001b[39m.\u001b[39mthreshold)\n\u001b[1;32m---> <a href='file:///c%3A/Data/Bocconi/2%20-%20DSBA/2nd%20Year/2nd%20Semester/Computer%20Science%20%28Algorithms%29/Final%20Project/Fast_Multipole_Method/quadtree.py?line=30'>31</a>\u001b[0m \u001b[39mself\u001b[39;49m\u001b[39m.\u001b[39;49mroot\u001b[39m.\u001b[39;49mset_cardinal_neighbors()\n",
      "File \u001b[1;32mc:\\Data\\Bocconi\\2 - DSBA\\2nd Year\\2nd Semester\\Computer Science (Algorithms)\\Final Project\\Fast_Multipole_Method\\single_tree_node.py:92\u001b[0m, in \u001b[0;36mSingleTreeNode.set_cardinal_neighbors\u001b[1;34m(self)\u001b[0m\n\u001b[0;32m     <a href='file:///c%3A/Data/Bocconi/2%20-%20DSBA/2nd%20Year/2nd%20Semester/Computer%20Science%20%28Algorithms%29/Final%20Project/Fast_Multipole_Method/single_tree_node.py?line=90'>91</a>\u001b[0m \u001b[39mdef\u001b[39;00m \u001b[39mset_cardinal_neighbors\u001b[39m(\u001b[39mself\u001b[39m):\n\u001b[1;32m---> <a href='file:///c%3A/Data/Bocconi/2%20-%20DSBA/2nd%20Year/2nd%20Semester/Computer%20Science%20%28Algorithms%29/Final%20Project/Fast_Multipole_Method/single_tree_node.py?line=91'>92</a>\u001b[0m     \u001b[39mfor\u001b[39;00m i, child \u001b[39min\u001b[39;00m \u001b[39menumerate\u001b[39;49m(\u001b[39mself\u001b[39;49m\u001b[39m.\u001b[39;49mchildren):\n\u001b[0;32m     <a href='file:///c%3A/Data/Bocconi/2%20-%20DSBA/2nd%20Year/2nd%20Semester/Computer%20Science%20%28Algorithms%29/Final%20Project/Fast_Multipole_Method/single_tree_node.py?line=92'>93</a>\u001b[0m         n_sibling \u001b[39m=\u001b[39m (\u001b[39mabs\u001b[39m(\u001b[39m1\u001b[39m \u001b[39m+\u001b[39m (i\u001b[39m^\u001b[39m\u001b[39m1\u001b[39m) \u001b[39m-\u001b[39m i), \u001b[39mabs\u001b[39m(\u001b[39m1\u001b[39m \u001b[39m+\u001b[39m (i\u001b[39m^\u001b[39m\u001b[39m2\u001b[39m) \u001b[39m-\u001b[39m i))\n\u001b[0;32m     <a href='file:///c%3A/Data/Bocconi/2%20-%20DSBA/2nd%20Year/2nd%20Semester/Computer%20Science%20%28Algorithms%29/Final%20Project/Fast_Multipole_Method/single_tree_node.py?line=94'>95</a>\u001b[0m         child\u001b[39m.\u001b[39mcardinal_neighbors[n_sibling[\u001b[39m0\u001b[39m]] \u001b[39m=\u001b[39m \u001b[39mself\u001b[39m\u001b[39m.\u001b[39mchildren[i\u001b[39m^\u001b[39m\u001b[39m1\u001b[39m]\n",
      "\u001b[1;31mTypeError\u001b[0m: 'NoneType' object is not iterable"
     ]
    }
   ],
   "source": [
    "tree = fmm.build_tree(particles, tree_threshold=10)\n",
    "fig, ax = plt.subplots(1)\n",
    "pos = np.array([p.pos for p in particles])\n",
    "pc = PatchCollection([Rectangle((p.x0,p.y0), p.w, p.h) for p in tree.root.traverse()],\n",
    "                     facecolors='none', edgecolors='c', linewidth=2, alpha=.3)\n",
    "ax.add_collection(pc)\n",
    "ax.scatter(pos[:,0], pos[:,1], c='m',marker='.')"
   ]
  },
  {
   "cell_type": "code",
   "execution_count": null,
   "metadata": {},
   "outputs": [],
   "source": []
  }
 ],
 "metadata": {
  "interpreter": {
   "hash": "ca884c885537bda47565481b6f7909589cb5ee2ec17839ade169c3096c890589"
  },
  "kernelspec": {
   "display_name": "Python 3.8.13 ('algorithms')",
   "language": "python",
   "name": "python3"
  },
  "language_info": {
   "codemirror_mode": {
    "name": "ipython",
    "version": 3
   },
   "file_extension": ".py",
   "mimetype": "text/x-python",
   "name": "python",
   "nbconvert_exporter": "python",
   "pygments_lexer": "ipython3",
   "version": "3.8.13"
  },
  "orig_nbformat": 4
 },
 "nbformat": 4,
 "nbformat_minor": 2
}
